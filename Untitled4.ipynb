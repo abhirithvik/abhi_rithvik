{
 "cells": [
  {
   "cell_type": "code",
   "execution_count": 1,
   "id": "0047ed73",
   "metadata": {},
   "outputs": [
    {
     "name": "stdout",
     "output_type": "stream",
     "text": [
      "enter the number of units:67\n",
      "67 is free\n",
      "0.0010004043579101562\n"
     ]
    }
   ],
   "source": [
    "# writing a program to caluclate current bill based on how many units they have been used\n",
    "# 1\n",
    "# this approach is best.\n",
    "import time\n",
    "from time import time\n",
    "\n",
    "a = int(input('enter the number of units:'))\n",
    "start = time()\n",
    "if a<=100:\n",
    "    print(f'{a} is free')\n",
    "elif a>100 and a<=200:\n",
    "    amount = a*5\n",
    "    print(f'{a} have to pay {amount}')\n",
    "elif a>200 and a<=500:\n",
    "    amount = a*7\n",
    "    print(f'{a} have to pay {amount}')\n",
    "elif a>500:\n",
    "    amount= a*10\n",
    "    print(f'{a} have to pay {amount}')\n",
    "else:\n",
    "    print('enter the correct units in bill')\n",
    "end = time()\n",
    "print(end - start)"
   ]
  },
  {
   "cell_type": "code",
   "execution_count": 1,
   "id": "70f0cf30",
   "metadata": {},
   "outputs": [
    {
     "name": "stdout",
     "output_type": "stream",
     "text": [
      "enter the number of units:300\n",
      "300 have to pay 2100\n",
      "0.0010001659393310547\n"
     ]
    }
   ],
   "source": [
    "# 2\n",
    "import time\n",
    "from time import time\n",
    "a = int(input('enter the number of units:'))\n",
    "start = time()\n",
    "if a!=0:\n",
    "    \n",
    "    if a<=100:\n",
    "        print(f'{a} is free')\n",
    "    elif a>100 and a<=200:\n",
    "        amount = a*5\n",
    "        print(f'{a} have to pay {amount}')\n",
    "    elif a>200 and a<=500:\n",
    "        amount = a*7\n",
    "        print(f'{a} have to pay {amount}')\n",
    "    elif a>500:\n",
    "        amount= a*10\n",
    "        print(f'{a} have to pay {amount}')\n",
    "else:\n",
    "    print('enter the correct units in bill')\n",
    "end = time()\n",
    "print(end-start)"
   ]
  },
  {
   "cell_type": "code",
   "execution_count": 6,
   "id": "c88ee47b",
   "metadata": {},
   "outputs": [
    {
     "name": "stdout",
     "output_type": "stream",
     "text": [
      "enter the number of units:234\n",
      "1638\n",
      "-56.465524673461914\n"
     ]
    }
   ],
   "source": [
    "# 3\n",
    "import time\n",
    "from time import time\n",
    "\n",
    "a = int(input('enter the number of units:'))\n",
    "start = time()\n",
    "rate_1 = 0  # Rate for the first 100 units\n",
    "rate_2 = 5  # Rate for units above 100 and below 200\n",
    "rate_3 = 7  # Rate for units above 200 and below 500\n",
    "rate_4 = 10  # Rate for units above 500\n",
    "total =  a * rate_1\n",
    "total_1 = a * rate_2\n",
    "total_2 = a * rate_3\n",
    "total_3 = a * rate_4\n",
    "if a <= 100:\n",
    "    print(total)\n",
    "elif a>100 and a<=200:\n",
    "    print(total_1)\n",
    "elif a>200 and a<=500:\n",
    "    print(total_2)\n",
    "elif a>500:\n",
    "    print(total_3)\n",
    "else:\n",
    "    print('enter the correct units in bill')\n",
    "print(end-start)"
   ]
  },
  {
   "cell_type": "code",
   "execution_count": null,
   "id": "e3632de7",
   "metadata": {},
   "outputs": [],
   "source": []
  }
 ],
 "metadata": {
  "kernelspec": {
   "display_name": "Python 3 (ipykernel)",
   "language": "python",
   "name": "python3"
  },
  "language_info": {
   "codemirror_mode": {
    "name": "ipython",
    "version": 3
   },
   "file_extension": ".py",
   "mimetype": "text/x-python",
   "name": "python",
   "nbconvert_exporter": "python",
   "pygments_lexer": "ipython3",
   "version": "3.11.2"
  }
 },
 "nbformat": 4,
 "nbformat_minor": 5
}
